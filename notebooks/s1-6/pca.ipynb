{
 "cells": [
  {
   "cell_type": "code",
   "execution_count": null,
   "metadata": {
    "collapsed": false
   },
   "outputs": [],
   "source": [
    "%pylab inline\n",
    "import pandas as pd\n",
    "import pylab as pl\n",
    "rcParams['figure.figsize'] = (16, 12)\n",
    "rcParams['figure.dpi'] = 120\n",
    "autumn()"
   ]
  },
  {
   "cell_type": "markdown",
   "metadata": {},
   "source": [
    "# Проклятие размерности"
   ]
  },
  {
   "cell_type": "code",
   "execution_count": null,
   "metadata": {
    "collapsed": false
   },
   "outputs": [],
   "source": [
    "# Будем строить графики зависимости различных параметров от размерности пространства\n",
    "def plot_dim(prop, dims=(1, 30), samples=10000, **kwargs):\n",
    "    ds = range(dims[0], dims[1] + 1)\n",
    "    plot(ds, list(map(lambda d: prop(d, samples=samples, **kwargs), ds)))\n",
    "    xlim(dims)\n",
    "from scipy.stats import gaussian_kde\n",
    "def kde_plot(prop, dim, samples=10000, **kwargs):\n",
    "    vs = array([prop(dim, samples=1, **kwargs) for _ in range(samples)])\n",
    "    k = gaussian_kde(vs)\n",
    "    xs = linspace(min(vs), max(vs), num=1000)\n",
    "    plot(xs, k(xs))"
   ]
  },
  {
   "cell_type": "code",
   "execution_count": null,
   "metadata": {
    "collapsed": false
   },
   "outputs": [],
   "source": [
    "# Средняя норма вектора из единичного куба\n",
    "def avg_norm(d, samples):\n",
    "    vs = random.random(size=(samples, d))\n",
    "    return average(linalg.norm(vs, axis=1))\n",
    "plot_dim(avg_norm)"
   ]
  },
  {
   "cell_type": "code",
   "execution_count": null,
   "metadata": {
    "collapsed": false
   },
   "outputs": [],
   "source": [
    "# Отношение объёмов вписанного шара и куба\n",
    "def volume_ratio(d, samples):\n",
    "    vs = random.random(size=(samples, d))\n",
    "    return average(linalg.norm(vs, axis=1) <= 1)\n",
    "plot_dim(volume_ratio)"
   ]
  },
  {
   "cell_type": "code",
   "execution_count": null,
   "metadata": {
    "collapsed": false
   },
   "outputs": [],
   "source": [
    "# Объем единичной сферы\n",
    "def sphere_volume(d, samples):\n",
    "    return volume_ratio(d, samples) * 2 ** d\n",
    "plot_dim(sphere_volume, samples=1000000)"
   ]
  },
  {
   "cell_type": "code",
   "execution_count": null,
   "metadata": {
    "collapsed": false
   },
   "outputs": [],
   "source": [
    "# Расстояние между двумя случайными векторами из единичного куба\n",
    "def rand_dist(d, samples):\n",
    "    x = random.random(size=(samples, d))\n",
    "    y = random.random(size=(samples, d))\n",
    "    return average(linalg.norm(x - y, axis=1))\n",
    "plot_dim(rand_dist)"
   ]
  },
  {
   "cell_type": "code",
   "execution_count": null,
   "metadata": {
    "collapsed": false
   },
   "outputs": [],
   "source": [
    "# Норма вектора из многомерного нормального распределения\n",
    "def gaussian_dist(d, samples):\n",
    "    vs = random.randn(samples, d)\n",
    "    return average(linalg.norm(vs, axis=1))\n",
    "plot_dim(gaussian_dist)"
   ]
  },
  {
   "cell_type": "code",
   "execution_count": null,
   "metadata": {
    "collapsed": false
   },
   "outputs": [],
   "source": [
    "# Отличие между минимальной и максимальной нормой в наборе точек\n",
    "def dist_ratio(d, points, samples):\n",
    "    vs = random.random(size=(points, d))\n",
    "    ns = linalg.norm(vs, axis=1)\n",
    "    ma = max(ns)\n",
    "    mi = min(ns)\n",
    "    return (ma - mi) / mi\n",
    "kde_plot(dist_ratio, 100, points=50)"
   ]
  },
  {
   "cell_type": "code",
   "execution_count": null,
   "metadata": {
    "collapsed": false
   },
   "outputs": [],
   "source": [
    "plot_dim(dist_ratio, points=10000)"
   ]
  },
  {
   "cell_type": "code",
   "execution_count": null,
   "metadata": {
    "collapsed": false
   },
   "outputs": [],
   "source": [
    "# Косинус угла между случайными векторами\n",
    "def rand_cosine(d, samples):\n",
    "    xs = random.random(size=(samples, d)) * 2 - 1\n",
    "    ys = random.random(size=(samples, d)) * 2 - 1\n",
    "    return average(dot(xs, ys.T).diagonal() / linalg.norm(xs, axis=1) / linalg.norm(ys, axis=1))\n",
    "kde_plot(rand_cosine, 300)"
   ]
  },
  {
   "cell_type": "markdown",
   "metadata": {},
   "source": [
    "# PCA"
   ]
  },
  {
   "cell_type": "code",
   "execution_count": null,
   "metadata": {
    "collapsed": false
   },
   "outputs": [],
   "source": [
    "from sklearn.datasets import load_digits\n",
    "digits = load_digits()"
   ]
  },
  {
   "cell_type": "code",
   "execution_count": null,
   "metadata": {
    "collapsed": false
   },
   "outputs": [],
   "source": [
    "f, plots = plt.subplots(1, 10)\n",
    "for i in range(10):\n",
    "    plots[i].imshow(digits.images[i], cmap='binary');\n",
    "    plots[i].axis('off');"
   ]
  },
  {
   "cell_type": "code",
   "execution_count": null,
   "metadata": {
    "collapsed": false
   },
   "outputs": [],
   "source": [
    "from sklearn.decomposition import PCA"
   ]
  },
  {
   "cell_type": "code",
   "execution_count": null,
   "metadata": {
    "collapsed": false
   },
   "outputs": [],
   "source": [
    "data = digits.data\n",
    "n_components = list(range(1, 10)) + list(range(10, 32, 2)) + [32, 48, 64]\n",
    "pca = [PCA(n_components=i) for i in n_components]\n",
    "for p in pca:\n",
    "    p.fit(data)\n",
    "components = pca[len(pca) - 1].transform(data)"
   ]
  },
  {
   "cell_type": "code",
   "execution_count": null,
   "metadata": {
    "collapsed": false
   },
   "outputs": [],
   "source": [
    "f, plots = plt.subplots(len(n_components), 10)\n",
    "f.set_size_inches(16, 2*len(n_components))\n",
    "plt.subplots_adjust(hspace=0)\n",
    "for i, p in enumerate(pca):\n",
    "    for j in range(10):\n",
    "        plots[i][j].imshow(p.inverse_transform(components[j, :p.n_components]).reshape((8,8)), cmap='binary');\n",
    "        plots[i][j].axis('off')"
   ]
  },
  {
   "cell_type": "code",
   "execution_count": null,
   "metadata": {
    "collapsed": false
   },
   "outputs": [],
   "source": [
    "f, plots = plt.subplots(1, 5)\n",
    "for n in range(5):\n",
    "    plots[n].imshow(pca[4].inverse_transform([[0, 100][i == n] for i in range(5)]).reshape((8,8)), cmap='binary');\n",
    "    plots[n].axis('off')"
   ]
  },
  {
   "cell_type": "code",
   "execution_count": null,
   "metadata": {
    "collapsed": false
   },
   "outputs": [],
   "source": [
    "best_pca = pca[len(pca) - 1]\n",
    "plot([sum(best_pca.explained_variance_ratio_[:i]) for i in range(64)]);"
   ]
  },
  {
   "cell_type": "code",
   "execution_count": null,
   "metadata": {
    "collapsed": false
   },
   "outputs": [],
   "source": [
    "from sklearn.decomposition import RandomizedPCA"
   ]
  },
  {
   "cell_type": "markdown",
   "metadata": {},
   "source": [
    "# ICA"
   ]
  },
  {
   "cell_type": "markdown",
   "metadata": {},
   "source": [
    "http://scikit-learn.org/stable/auto_examples/decomposition/plot_ica_blind_source_separation.html"
   ]
  },
  {
   "cell_type": "code",
   "execution_count": null,
   "metadata": {
    "collapsed": false
   },
   "outputs": [],
   "source": [
    "from sklearn.decomposition import FastICA"
   ]
  },
  {
   "cell_type": "code",
   "execution_count": null,
   "metadata": {
    "collapsed": false
   },
   "outputs": [],
   "source": [
    "n_components = 8\n",
    "ica = FastICA(n_components=n_components).fit(data)\n",
    "f, plots = plt.subplots(1, n_components)\n",
    "for n in range(n_components):\n",
    "    plots[n].imshow(ica.inverse_transform(np.array([[0, 100][i == n] for i in range(n_components)])).reshape((8,8)), cmap='binary');\n",
    "    plots[n].axis('off')"
   ]
  },
  {
   "cell_type": "markdown",
   "metadata": {},
   "source": [
    "<img src=\"http://scikit-learn.org/stable/_images/plot_ica_blind_source_separation_001.png\" width=1024>"
   ]
  },
  {
   "cell_type": "markdown",
   "metadata": {},
   "source": [
    "# t-SNA"
   ]
  },
  {
   "cell_type": "markdown",
   "metadata": {},
   "source": [
    "<img src=\"https://lvdmaaten.github.io/tsne/examples/mnist_tsne.jpg\" width=1024>"
   ]
  },
  {
   "cell_type": "markdown",
   "metadata": {},
   "source": [
    "Ещё картинки: https://lvdmaaten.github.io/tsne/"
   ]
  },
  {
   "cell_type": "markdown",
   "metadata": {},
   "source": [
    "Пример с лицами: http://scikit-learn.org/stable/auto_examples/decomposition/plot_faces_decomposition.html#example-decomposition-plot-faces-decomposition-py"
   ]
  },
  {
   "cell_type": "markdown",
   "metadata": {},
   "source": [
    "# Links"
   ]
  },
  {
   "cell_type": "markdown",
   "metadata": {},
   "source": [
    "- http://colah.github.io/posts/2014-10-Visualizing-MNIST/\n",
    "- https://www.kaggle.com/puyokw/digit-recognizer/clustering-in-2-dimension-using-tsne\n",
    "- http://alexanderfabisch.github.io/t-sne-in-scikit-learn.html\n",
    "- https://www.reddit.com/r/MachineLearning/comments/47kf7w/scikitlearn_tsne_implementation/\n",
    "- http://arxiv.org/pdf/1404.1100.pdf\n",
    "- http://efavdb.com/independent-component-analysis/\n",
    "- https://habrahabr.ru/post/267041/"
   ]
  }
 ],
 "metadata": {
  "kernelspec": {
   "display_name": "Python 3",
   "language": "python",
   "name": "python3"
  },
  "language_info": {
   "codemirror_mode": {
    "name": "ipython",
    "version": 3
   },
   "file_extension": ".py",
   "mimetype": "text/x-python",
   "name": "python",
   "nbconvert_exporter": "python",
   "pygments_lexer": "ipython3",
   "version": "3.4.3"
  }
 },
 "nbformat": 4,
 "nbformat_minor": 0
}
