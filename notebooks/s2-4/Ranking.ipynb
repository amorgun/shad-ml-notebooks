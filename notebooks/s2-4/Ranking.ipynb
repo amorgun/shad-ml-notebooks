{
 "cells": [
  {
   "cell_type": "markdown",
   "metadata": {},
   "source": [
    "## Datasets\n",
    "SVM-Rank format\n",
    "```\n",
    "3 qid:1 1:1 2:1 3:0 4:0.2 5:0 # 1A\n",
    "2 qid:1 1:0 2:0 3:1 4:0.1 5:1 # 1B \n",
    "1 qid:1 1:0 2:1 3:0 4:0.4 5:0 # 1C\n",
    "1 qid:1 1:0 2:0 3:1 4:0.3 5:0 # 1D   \n",
    "2 qid:2 1:1 2:0 3:1 4:0.4 5:0 # 2B\n",
    "```\n",
    "[LETOR 3.0 datasets](http://research.microsoft.com/en-us/um/beijing/projects/letor/letor3dataset.aspx)\n",
    "\n",
    "[LETOR 4.0 datasets](http://research.microsoft.com/en-us/um/beijing/projects/letor/letor4dataset.aspx)\n",
    "\n",
    "[Yahoo](http://webscope.sandbox.yahoo.com/catalog.php?datatype=c)\n",
    "\n",
    "[Yandex](https://academy.yandex.ru/events/data_analysis/grant2009/)"
   ]
  },
  {
   "cell_type": "markdown",
   "metadata": {},
   "source": [
    "## Metrics\n",
    "### DCG\n",
    "$$DCG@T=\\sum_{i=1}^{T}\\frac{rel_{i}}{log_{2}(i + 1)}$$\n",
    "$$or$$\n",
    "$$DCG@T=\\sum_{i=1}^{T}\\frac{2^{rel_{i}} - 1}{log_{2}(i+1)}$$\n",
    "### NDCG\n",
    "$$NDCG@T=\\frac{DCG@T}{maxDCG@T}$$\n",
    "### ERR\n",
    "$$R(rel) = \\frac{2^{rel}-1}{2^{rel_{max}}}$$\n",
    "$$ERR@T=\\sum_{r=1}^{T}\\frac{1}{r}P(stop)=\\sum_{r=1}^{T}\\frac{1}{r}\\prod_{i=1}^{r-1}(1-P_{i})P_{r}$$\n"
   ]
  },
  {
   "cell_type": "markdown",
   "metadata": {},
   "source": [
    "## Methods\n",
    "### BM25\n",
    "\n",
    "### Pointwise\n",
    "![](http://fseoane.net/blog/static/uploads/2012/pairwise_transform_files/pairwise_transform_fig_03.png)\n",
    "### Pairwise\n",
    "#### RankNet\n",
    "\n",
    "### Listwise\n",
    "#### LambdaRank\n",
    "#### LambdaMART\n",
    "![](https://qph.ec.quoracdn.net/main-qimg-a9370c61f5089674c840c4ff0c2a2ccc?convert_to_webp=true)"
   ]
  },
  {
   "cell_type": "markdown",
   "metadata": {},
   "source": [
    "## Libraries"
   ]
  },
  {
   "cell_type": "markdown",
   "metadata": {},
   "source": [
    "[RankLib](https://sourceforge.net/p/lemur/wiki/RankLib/)\n",
    "\n",
    "[SVMLight](http://www.cs.cornell.edu/People/tj/svm_light/svm_rank.html)\n",
    "\n",
    "[xgboost (pairwise loss)](https://github.com/dmlc/xgboost/blob/master/doc/parameter.md#learning-task-parameters)"
   ]
  }
 ],
 "metadata": {
  "kernelspec": {
   "display_name": "Python 3",
   "language": "python",
   "name": "python3"
  },
  "language_info": {
   "codemirror_mode": {
    "name": "ipython",
    "version": 3
   },
   "file_extension": ".py",
   "mimetype": "text/x-python",
   "name": "python",
   "nbconvert_exporter": "python",
   "pygments_lexer": "ipython3",
   "version": "3.5.2"
  }
 },
 "nbformat": 4,
 "nbformat_minor": 1
}
