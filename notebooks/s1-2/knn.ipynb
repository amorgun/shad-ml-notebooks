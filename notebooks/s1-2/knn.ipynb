{
 "cells": [
  {
   "cell_type": "code",
   "execution_count": null,
   "metadata": {
    "collapsed": false,
    "slideshow": {
     "slide_type": "slide"
    }
   },
   "outputs": [],
   "source": [
    "%pylab inline\n",
    "import pandas as pd\n",
    "from matplotlib import pyplot as plt\n",
    "import seaborn; seaborn.set()\n",
    "from ipywidgets import interact\n",
    "pylab.rcParams['figure.figsize'] = (10.0, 8.0)\n",
    "autumn()"
   ]
  },
  {
   "cell_type": "markdown",
   "metadata": {},
   "source": [
    "# KNN"
   ]
  },
  {
   "cell_type": "markdown",
   "metadata": {},
   "source": [
    "$$\n",
    "    a(x, X^l) = \\arg \\max_{y \\in Y} \\sum_{i = 1}^{l}[y_i = y] ~ w(i, x)\n",
    "$$\n"
   ]
  },
  {
   "cell_type": "code",
   "execution_count": null,
   "metadata": {
    "collapsed": false,
    "slideshow": {
     "slide_type": "skip"
    }
   },
   "outputs": [],
   "source": [
    "np.random.seed(13)\n",
    "n = 100\n",
    "\n",
    "df = pd.DataFrame(\n",
    "    np.vstack([\n",
    "        np.random.normal(loc=0, scale=1, size=(n, 2)),\n",
    "        np.random.normal(loc=3, scale=2, size=(n, 2))\n",
    "    ]), columns=['x1', 'x2'])\n",
    "\n",
    "df['target'] = np.hstack([np.ones(n), np.zeros(n)]).T\n",
    "plt.scatter(df.x1, df.x2, c=df.target, s=100, edgecolor='black', linewidth='1');"
   ]
  },
  {
   "cell_type": "code",
   "execution_count": null,
   "metadata": {
    "collapsed": false
   },
   "outputs": [],
   "source": [
    "from sklearn.neighbors import KNeighborsClassifier as KNN\n",
    "\n",
    "features = df.drop('target', axis=1)\n",
    "answer = df['target']\n",
    "\n",
    "def get_grid(data, border=1., step=.01):\n",
    "    x_min, x_max = data[:, 0].min() - border, data[:, 0].max() + border\n",
    "    y_min, y_max = data[:, 1].min() - border, data[:, 1].max() + border\n",
    "    return np.meshgrid(np.arange(x_min, x_max, step),\n",
    "                       np.arange(y_min, y_max, step))\n",
    "\n",
    "xx, yy = get_grid(features.values, step=0.025)\n",
    "\n",
    "def show_knn(k=4, proba=True, weights='uniform'):\n",
    "    clf = KNN(n_neighbors=k, weights=weights)\n",
    "    clf.fit(features, answer)\n",
    "    if proba:\n",
    "        predicted = clf.predict_proba(np.c_[xx.ravel(), yy.ravel()])[:, 1].reshape(xx.shape)\n",
    "    else:\n",
    "        predicted = clf.predict(np.c_[xx.ravel(), yy.ravel()]).reshape(xx.shape)\n",
    "    plt.pcolormesh(xx, yy, predicted)\n",
    "    plt.scatter(df.x1, df.x2, c=answer, s=100, edgecolor='black', linewidth='1')\n",
    "    plt.xlabel('x1')\n",
    "    plt.ylabel('x2')\n",
    "    plt.axis([xx.min(), xx.max(), yy.min(), yy.max()]);"
   ]
  },
  {
   "cell_type": "code",
   "execution_count": null,
   "metadata": {
    "collapsed": false
   },
   "outputs": [],
   "source": [
    "interact(show_knn, k=(1, len(df)), weights=['uniform', 'distance'], __manual=True);"
   ]
  },
  {
   "cell_type": "markdown",
   "metadata": {},
   "source": [
    "# Wine"
   ]
  },
  {
   "cell_type": "code",
   "execution_count": null,
   "metadata": {
    "collapsed": false
   },
   "outputs": [],
   "source": [
    "data = pd.read_csv('wine/winequality-red.csv', sep=';')\n",
    "print(\"Shape:\", data.shape)\n",
    "data.head(5)"
   ]
  },
  {
   "cell_type": "code",
   "execution_count": null,
   "metadata": {
    "collapsed": false
   },
   "outputs": [],
   "source": [
    "from sklearn.neighbors import KNeighborsRegressor\n",
    "from sklearn.metrics import mean_squared_error as score\n",
    "X = data.drop('quality', axis = 1)\n",
    "y = data['quality']\n",
    "clf = KNeighborsRegressor(n_neighbors=1)\n",
    "clf = clf.fit(X, y)"
   ]
  },
  {
   "cell_type": "code",
   "execution_count": null,
   "metadata": {
    "collapsed": false
   },
   "outputs": [],
   "source": [
    "score(clf.predict(X), y)"
   ]
  },
  {
   "cell_type": "code",
   "execution_count": null,
   "metadata": {
    "collapsed": false
   },
   "outputs": [],
   "source": [
    "from sklearn.cross_validation import train_test_split\n",
    "X_train, X_test, y_train, y_test = train_test_split(X, y, test_size=0.3, random_state=sum(list(map(ord, 'shad'))))\n",
    "\n",
    "clf = clf.fit(X_train, y_train)\n",
    "score(clf.predict(X_test), y_test)"
   ]
  },
  {
   "cell_type": "code",
   "execution_count": null,
   "metadata": {
    "collapsed": false
   },
   "outputs": [],
   "source": [
    "def get_scores(X_train, X_test, y_train, y_test, max_k=100, clf_class=KNeighborsRegressor):\n",
    "    for k in range(1, max_k):\n",
    "        yield score(y_test, clf_class(n_neighbors=k).fit(X_train, y_train).predict(X_test))\n",
    "\n",
    "scores = list(get_scores(X_train, X_test, y_train, y_test))"
   ]
  },
  {
   "cell_type": "code",
   "execution_count": null,
   "metadata": {
    "collapsed": false
   },
   "outputs": [],
   "source": [
    "best_k = min(range(len(scores)), key=scores.__getitem__)\n",
    "start_point = best_k, scores[best_k]\n",
    "plt.annotate(\"k = {}\\nScore = {:.4}\".format(best_k, scores[best_k]),\n",
    "            xy=start_point,\n",
    "            xytext=(50, -10), textcoords='offset points',\n",
    "            size=20,\n",
    "            bbox=dict(boxstyle=\"round\", fc=\"1\"),\n",
    "            va=\"center\", ha=\"left\",\n",
    "            arrowprops=dict(facecolor='red', width=4,))\n",
    "plt.plot(scores, linewidth=3.0);"
   ]
  },
  {
   "cell_type": "code",
   "execution_count": null,
   "metadata": {
    "collapsed": false
   },
   "outputs": [],
   "source": [
    "for idx in range(10):\n",
    "    parts = train_test_split(X, y, test_size=0.3, random_state=idx)\n",
    "    current_scores = list(get_scores(*parts))\n",
    "    plt.plot(current_scores, linewidth=3.0);"
   ]
  },
  {
   "cell_type": "code",
   "execution_count": null,
   "metadata": {
    "collapsed": false
   },
   "outputs": [],
   "source": [
    "from sklearn.grid_search import GridSearchCV\n",
    "from sklearn.cross_validation import StratifiedKFold\n",
    "params = {'n_neighbors': list(range(1, 100))}\n",
    "grid_searcher = GridSearchCV(KNeighborsRegressor(),\n",
    "                             params,\n",
    "                             cv=StratifiedKFold(y, n_folds=5, random_state=sum(list(map(ord, 'knn')))),\n",
    "                             scoring=\"mean_squared_error\",\n",
    "                             n_jobs=-1,)\n",
    "grid_searcher.fit(X, y);"
   ]
  },
  {
   "cell_type": "code",
   "execution_count": null,
   "metadata": {
    "collapsed": false
   },
   "outputs": [],
   "source": [
    "means, stds = list(map(np.array, zip(*[(\n",
    "            np.mean(i.cv_validation_scores),\n",
    "            np.std(i.cv_validation_scores))\n",
    "    for i in grid_searcher.grid_scores_])))\n",
    "\n",
    "means *= -1\n",
    "plot(range(len(means)), means)\n",
    "best_k = grid_searcher.best_params_['n_neighbors']\n",
    "start_point = best_k, -grid_searcher.best_score_\n",
    "plt.annotate(\"k = {}\\nScore = {:.4}\".format(best_k, -grid_searcher.best_score_),\n",
    "            xy=start_point,\n",
    "            xytext=(10, 70), textcoords='offset points',\n",
    "            size=20,\n",
    "            bbox=dict(boxstyle=\"round\", fc=\"1\"),\n",
    "            va=\"center\", ha=\"left\",\n",
    "            arrowprops=dict(facecolor='red', width=4,))\n",
    "plt.fill_between(range(len(means)), means + 2 * stds, means - 2 * stds, alpha = 0.2, facecolor='blue');"
   ]
  },
  {
   "cell_type": "code",
   "execution_count": null,
   "metadata": {
    "collapsed": false
   },
   "outputs": [],
   "source": [
    "X.head(5)"
   ]
  },
  {
   "cell_type": "code",
   "execution_count": null,
   "metadata": {
    "collapsed": false
   },
   "outputs": [],
   "source": [
    "from sklearn.pipeline import make_pipeline\n",
    "from sklearn.preprocessing import StandardScaler\n",
    "clf = make_pipeline(StandardScaler(), KNeighborsRegressor())    \n",
    "\n",
    "params = {'kneighborsregressor__n_neighbors': list(range(1, 100))}\n",
    "grid_searcher = GridSearchCV(clf,\n",
    "                             params,\n",
    "                             cv=StratifiedKFold(y, n_folds=5, random_state=sum(list(map(ord, 'knn')))),\n",
    "                             scoring=\"mean_squared_error\",\n",
    "                             n_jobs=-1,)\n",
    "grid_searcher.fit(X, y);\n",
    "\n",
    "scaled_means = -np.array([np.mean(i.cv_validation_scores) for i in grid_searcher.grid_scores_])"
   ]
  },
  {
   "cell_type": "code",
   "execution_count": null,
   "metadata": {
    "collapsed": false
   },
   "outputs": [],
   "source": [
    "plot(range(len(means)), means)\n",
    "plot(range(len(scaled_means)), scaled_means)\n",
    "best_point = grid_searcher.best_params_['kneighborsregressor__n_neighbors'], -grid_searcher.best_score_\n",
    "plt.annotate(\"k = {}\\nScore = {:.4}\".format(*best_point),\n",
    "            xy=best_point,\n",
    "            xytext=(20, 60), textcoords='offset points',\n",
    "            size=20,\n",
    "            bbox=dict(boxstyle=\"round\", fc=\"1\"),\n",
    "            va=\"center\", ha=\"left\",\n",
    "            arrowprops=dict(facecolor='red', width=4,))\n",
    "plt.legend(['Initial data', 'Scaled data'], loc='upper right');"
   ]
  },
  {
   "cell_type": "markdown",
   "metadata": {},
   "source": [
    "# Поиск соседей"
   ]
  },
  {
   "cell_type": "markdown",
   "metadata": {},
   "source": [
    "1. Linear search (Brute force)\n",
    "2. Space partitioning / Branch and bound methodology ([KD tree](https://en.wikipedia.org/wiki/K-d_tree),[Ball tree](https://en.wikipedia.org/wiki/Ball_tree), [Cone tree](http://arxiv.org/pdf/1202.6101.pdf))\n",
    "3. Locality sensitive hashing ([LSH](https://en.wikipedia.org/wiki/Locality-sensitive_hashing), [ALSH](http://papers.nips.cc/paper/5329-weighted-importance-sampling-for-off-policy-learning-with-linear-function-approximation))\n",
    "4. Compression / clustering based search ([PQ](http://citeseerx.ist.psu.edu/viewdoc/download?doi=10.1.1.205.104&rep=rep1&type=pdf), [OPQ](http://www.cv-foundation.org/openaccess/content_cvpr_2013/papers/Ge_Optimized_Product_Quantization_2013_CVPR_paper.pdf), [LOPQ](http://www.cv-foundation.org/openaccess/content_cvpr_2014/papers/Kalantidis_Locally_Optimized_Product_2014_CVPR_paper.pdf), [APQ](http://www.cv-foundation.org/openaccess/content_cvpr_2014/papers/Babenko_Additive_Quantization_for_2014_CVPR_paper.pdf), ...)"
   ]
  },
  {
   "cell_type": "markdown",
   "metadata": {},
   "source": [
    "## Space partitioning / Branch and bound methodology"
   ]
  },
  {
   "cell_type": "markdown",
   "metadata": {},
   "source": [
    "![](http://what-when-how.com/wp-content/uploads/2012/07/tmpf9b3200_thumb.png)"
   ]
  },
  {
   "cell_type": "markdown",
   "metadata": {},
   "source": [
    "## Locality sensitive hashing"
   ]
  },
  {
   "cell_type": "markdown",
   "metadata": {},
   "source": [
    "![](http://www.bogotobogo.com/Algorithms/images/LSH_Cosine_Distance/LHS_picm1.png)\n",
    "![](http://www.bogotobogo.com/Algorithms/images/LSH_Cosine_Distance/LHS_pic0.png)"
   ]
  },
  {
   "cell_type": "markdown",
   "metadata": {},
   "source": [
    "## Compression / clustering based search"
   ]
  },
  {
   "cell_type": "markdown",
   "metadata": {},
   "source": [
    "![](http://image.ntua.gr/iva/research/lopq/overview.png)"
   ]
  },
  {
   "cell_type": "markdown",
   "metadata": {},
   "source": [
    "# Links"
   ]
  },
  {
   "cell_type": "markdown",
   "metadata": {},
   "source": [
    "- http://scikit-learn.org/stable/modules/neighbors.html\n",
    "- http://scikit-learn.org/stable/modules/cross_validation.html\n",
    "- https://github.com/ipython/ipywidgets\n",
    "- https://github.com/erikbern/ann-benchmarks"
   ]
  }
 ],
 "metadata": {
  "kernelspec": {
   "display_name": "Python 3",
   "language": "python",
   "name": "python3"
  },
  "language_info": {
   "codemirror_mode": {
    "name": "ipython",
    "version": 3
   },
   "file_extension": ".py",
   "mimetype": "text/x-python",
   "name": "python",
   "nbconvert_exporter": "python",
   "pygments_lexer": "ipython3",
   "version": "3.4.3"
  }
 },
 "nbformat": 4,
 "nbformat_minor": 0
}
