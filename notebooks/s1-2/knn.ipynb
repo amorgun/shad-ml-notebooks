{
 "cells": [
  {
   "cell_type": "code",
   "execution_count": null,
   "metadata": {
    "collapsed": false
   },
   "outputs": [],
   "source": [
    "%pylab inline\n",
    "import pandas as pd\n",
    "from matplotlib import pyplot as plt\n",
    "autumn()\n",
    "import seaborn; seaborn.set()\n",
    "from ipywidgets import interact"
   ]
  },
  {
   "cell_type": "code",
   "execution_count": null,
   "metadata": {
    "collapsed": false
   },
   "outputs": [],
   "source": [
    "train = pd.read_csv('train.csv')\n",
    "features = train[['sepal width', 'petal width']]\n",
    "x, y = features.values.T\n",
    "answer = train['target']\n",
    "\n",
    "plt.figure(figsize=(10, 10))\n",
    "plt.scatter(x, y, c=answer, s=50, alpha=0.9, cmap='rainbow', linewidth='0.5')\n",
    "plt.xlabel('sepal width')\n",
    "plt.ylabel('petal width');"
   ]
  },
  {
   "cell_type": "code",
   "execution_count": null,
   "metadata": {
    "collapsed": false
   },
   "outputs": [],
   "source": [
    "from sklearn.neighbors import KNeighborsRegressor as KNN\n",
    "\n",
    "def get_grid(data, border=1., step=.01):\n",
    "    x_min, x_max = data[:, 0].min() - border, data[:, 0].max() + border\n",
    "    y_min, y_max = data[:, 1].min() - border, data[:, 1].max() + border\n",
    "    return np.meshgrid(np.arange(x_min, x_max, step),\n",
    "                       np.arange(y_min, y_max, step))\n",
    "\n",
    "xx, yy = get_grid(features.values, step=0.0025)\n",
    "\n",
    "def show_knn(k=4):\n",
    "    plt.figure(figsize=(10, 10))\n",
    "    clf = KNN(n_neighbors=k)\n",
    "    clf.fit(features, answer)\n",
    "    predicted = clf.predict(np.c_[xx.ravel(), yy.ravel()]).reshape(xx.shape)\n",
    "    plt.pcolormesh(xx, yy, predicted, cmap='rainbow')\n",
    "    plt.scatter(x, y, c=answer, s=100, edgecolor='black', linewidth='1', cmap='rainbow')\n",
    "    plt.xlabel('x1')\n",
    "    plt.ylabel('x2')\n",
    "    plt.axis([xx.min(), xx.max(), yy.min(), yy.max()]);"
   ]
  },
  {
   "cell_type": "code",
   "execution_count": null,
   "metadata": {
    "collapsed": false
   },
   "outputs": [],
   "source": [
    "interact(show_knn, k=(1, len(train)), __manual=True);"
   ]
  },
  {
   "cell_type": "markdown",
   "metadata": {},
   "source": [
    "# Links"
   ]
  },
  {
   "cell_type": "markdown",
   "metadata": {},
   "source": [
    "- http://scikit-learn.org/stable/modules/neighbors.html\n",
    "- https://github.com/ipython/ipywidgets"
   ]
  }
 ],
 "metadata": {
  "kernelspec": {
   "display_name": "Python 3",
   "language": "python",
   "name": "python3"
  },
  "language_info": {
   "codemirror_mode": {
    "name": "ipython",
    "version": 3
   },
   "file_extension": ".py",
   "mimetype": "text/x-python",
   "name": "python",
   "nbconvert_exporter": "python",
   "pygments_lexer": "ipython3",
   "version": "3.4.3"
  }
 },
 "nbformat": 4,
 "nbformat_minor": 0
}
