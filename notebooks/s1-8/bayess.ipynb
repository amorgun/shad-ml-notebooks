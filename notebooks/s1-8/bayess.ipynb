{
 "cells": [
  {
   "cell_type": "markdown",
   "metadata": {},
   "source": [
    "# Bayesian classification methods"
   ]
  },
  {
   "cell_type": "code",
   "execution_count": null,
   "metadata": {
    "collapsed": false
   },
   "outputs": [],
   "source": [
    "%pylab inline\n",
    "import pandas as pd\n",
    "from matplotlib import pyplot as plt\n",
    "import seaborn; seaborn.set()\n",
    "from ipywidgets import interact\n",
    "pylab.rcParams['figure.figsize'] = (10.0, 8.0)\n",
    "autumn()\n",
    "scatter_args = dict(s=100, edgecolor='black', linewidth='1.5')"
   ]
  },
  {
   "cell_type": "code",
   "execution_count": null,
   "metadata": {
    "collapsed": false
   },
   "outputs": [],
   "source": [
    "np.random.seed(sum(list(map(ord, \"shad\"))))\n",
    "n = 100\n",
    "df = pd.DataFrame(\n",
    "    np.vstack([\n",
    "        np.random.normal(loc=0, scale=2, size=(n, 1)),\n",
    "        np.random.normal(loc=6, scale=3, size=(n, 1))\n",
    "    ]), columns=['x'])\n",
    "\n",
    "df['target'] = np.hstack([np.ones(n), np.zeros(n)]).T\n",
    "figsize(10.0, 5.0)\n",
    "x = np.arange(-5, 15, 0.1)\n",
    "def gaussian(x, mean, std):\n",
    "    return np.exp(-(x - mean)**2 / (2 * std ** 2) )/(std * sqrt(2 * np.pi))\n",
    "xlim((-5, 15))\n",
    "fill_between(x, gaussian(x, 0, 2) * 100, 0, edgecolor='black', linewidth='1.5', color='yellow', alpha=0.5)\n",
    "fill_between(x, gaussian(x, 6, 3) * 100, 0, edgecolor='black', linewidth='1.5', color='red', alpha=0.5)\n",
    "plt.scatter(df.x, np.random.randn(2 * n), c=df.target, **scatter_args);\n",
    "\n"
   ]
  },
  {
   "cell_type": "markdown",
   "metadata": {},
   "source": [
    "$$ p(x, y) = p(x) P(y|x) = P(y) p(x|y)$$\n",
    "$$ a(x) = \\arg \\max_{k}  \\lambda_k P(y) p(x|y)$$ "
   ]
  },
  {
   "cell_type": "markdown",
   "metadata": {},
   "source": [
    "## Naive Bayes classifier\n",
    "$$ p(c| x^1, \\dots, x^m) = \\frac{p(c)p(x^1, \\dots, x^m|c)}{p(x^1, \\dots, x^m)} \\propto p(c)p(x^1, \\dots, x^m|c) \\approx p(c)\\prod_{i=1}^m p(x^i | c)$$  \n",
    "  \n",
    "$$ p(c| x^1, \\dots, x^m) \\propto e^{\\log{p(c)} + \\sum_{i=1}^m \\log{p(x^i | c)}} $$\n",
    "  \n",
    "$$ p(c| x^1, \\dots, x^m) = \\frac{e^{\\log{p(c)} + \\sum_{i=1}^m \\log{p(x^i | c)}}}{\\sum_{k=1}^K e^{\\log{p(c_k)} + \\sum_{i=1}^m \\log{p(x^i | c_k)} } }$$"
   ]
  },
  {
   "cell_type": "markdown",
   "metadata": {},
   "source": [
    "Maximum likelihood: $$ p(c) = \\frac{N_c}{\\sum_{k=1}^K N_{c_k}}$$  \n",
    "  \n",
    "Add-one smoothing: $$ p(c) = \\frac{N_c + 1}{K + \\sum_{k=1}^K N_{c_k}}$$  \n",
    "  \n",
    "Additive smoothing: $$ p(c) = \\frac{N_c + \\alpha_c}{\\sum_{k=1}^K N_{c_k} + \\alpha_{c_k}}$$  "
   ]
  },
  {
   "cell_type": "markdown",
   "metadata": {},
   "source": [
    "### KDE"
   ]
  },
  {
   "cell_type": "code",
   "execution_count": null,
   "metadata": {
    "collapsed": false
   },
   "outputs": [],
   "source": [
    "def plot_kde(kernel, width=0.2):\n",
    "    params = {\"kernel\":kernel, \"legend\": False, 'bw': width}\n",
    "    xlim((-5, 15))\n",
    "    seaborn.kdeplot(df.x[df.target==0], **params)\n",
    "    seaborn.kdeplot(df.x[df.target==1], **params);\n",
    "    \n",
    "interact(plot_kde, width=((0.05, 10, 0.05)), kernel=['gau', 'cos', 'biw', 'epa', 'tri', 'triw']);"
   ]
  },
  {
   "cell_type": "markdown",
   "metadata": {},
   "source": [
    "### Maximum likelihood"
   ]
  },
  {
   "cell_type": "code",
   "execution_count": null,
   "metadata": {
    "collapsed": false
   },
   "outputs": [],
   "source": [
    "def plot_normal_distribution(label, color):\n",
    "    points = df.x[df.target==label]\n",
    "    m = np.mean(points)\n",
    "    s = np.std(points)\n",
    "    fill_between(x, gaussian(x, m, s), 0, edgecolor='black', linewidth='1.5', color=color, alpha=0.5)\n",
    "\n",
    "xlim((-5, 15))\n",
    "plot_normal_distribution(0, 'red')\n",
    "plot_normal_distribution(1, 'yellow')"
   ]
  },
  {
   "cell_type": "markdown",
   "metadata": {},
   "source": [
    "# Mixture"
   ]
  },
  {
   "cell_type": "code",
   "execution_count": null,
   "metadata": {
    "collapsed": false
   },
   "outputs": [],
   "source": [
    "from sklearn import mixture\n",
    "components = [\n",
    "    (2, 3),\n",
    "    (8, 5),\n",
    "    (4, 1),\n",
    "]\n",
    "for m, s in components:\n",
    "    fill_between(x, gaussian(x, m, s), 0, edgecolor='black', linewidth='1.5', alpha=0.5, color='b')\n",
    "n=100\n",
    "samples = np.hstack([\n",
    "    np.random.normal(loc=m, scale=s, size=n) for m, s in components\n",
    "])\n",
    "gmm = mixture.GMM(n_components=len(components), n_iter=100)\n",
    "gmm.fit(samples[:, np.newaxis]);\n",
    "for i, _ in enumerate(components):\n",
    "    fill_between(x, gaussian(x, gmm.means_[i], gmm.covars_[i]), 0, edgecolor='black', linewidth='1.5', alpha=0.5, color='y')\n",
    "print(gmm.means_)"
   ]
  },
  {
   "cell_type": "markdown",
   "metadata": {},
   "source": [
    "# Links\n",
    "- http://scikit-learn.org/stable/modules/lda_qda.html\n",
    "- http://scikit-learn.org/stable/modules/mixture.html\n",
    "- http://scikit-learn.org/stable/modules/naive_bayes.html"
   ]
  }
 ],
 "metadata": {
  "kernelspec": {
   "display_name": "Python 3",
   "language": "python",
   "name": "python3"
  },
  "language_info": {
   "codemirror_mode": {
    "name": "ipython",
    "version": 3
   },
   "file_extension": ".py",
   "mimetype": "text/x-python",
   "name": "python",
   "nbconvert_exporter": "python",
   "pygments_lexer": "ipython3",
   "version": "3.4.3"
  }
 },
 "nbformat": 4,
 "nbformat_minor": 0
}
