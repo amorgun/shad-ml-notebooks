{
 "cells": [
  {
   "cell_type": "code",
   "execution_count": null,
   "metadata": {
    "collapsed": false
   },
   "outputs": [],
   "source": [
    "%pylab inline\n",
    "import matplotlib.pyplot as plt\n",
    "import numpy as np\n",
    "import pandas as pd\n",
    "import seaborn as sns; sns.set();\n",
    "scatter_args = dict(s=100, edgecolor='black', linewidth='1.5', cmap=\"autumn\")"
   ]
  },
  {
   "cell_type": "markdown",
   "metadata": {},
   "source": [
    "# Random forest"
   ]
  },
  {
   "cell_type": "markdown",
   "metadata": {},
   "source": [
    "### Out-of-bag score"
   ]
  },
  {
   "cell_type": "markdown",
   "metadata": {},
   "source": [
    "### Feature importances"
   ]
  },
  {
   "cell_type": "markdown",
   "metadata": {},
   "source": [
    "# Линейные классификаторы"
   ]
  },
  {
   "cell_type": "markdown",
   "metadata": {},
   "source": [
    "$$a(x) = sign(\\left<w^Tx\\right> - w_0)$$"
   ]
  },
  {
   "cell_type": "code",
   "execution_count": null,
   "metadata": {
    "collapsed": false
   },
   "outputs": [],
   "source": [
    "def get_grid(data, step=0.1):\n",
    "    x_min, x_max = data.x.min() - 1, data.x.max() + 1\n",
    "    y_min, y_max = data.y.min() - 1, data.y.max() + 1\n",
    "    return np.meshgrid(np.arange(x_min, x_max, step),\n",
    "                       np.arange(y_min, y_max, step))\n",
    "\n",
    "from sklearn.cross_validation import cross_val_score\n",
    "\n",
    "def get_score(X, y, cl):\n",
    "    return cross_val_score(cl, X, y, cv=5, scoring='mean_squared_error').mean()\n",
    "\n",
    "def plot_linear_border(cl, X, plot, borders=1):\n",
    "    x_limits = (np.min(X.x) - borders, np.max(X.x) + borders)\n",
    "    y_limits = (np.min(X.y) - borders, np.max(X.y) + borders)\n",
    "    line_x = np.linspace(*x_limits, num=2)\n",
    "    line_y = (-line_x * cl.coef_[0, 0] - cl.intercept_) / cl.coef_[0, 1]\n",
    "    plot.plot(line_x, line_y, c='r', lw=2)\n",
    "    plot.fill_between(line_x, line_y, -100, color='r')\n",
    "    plot.fill_between(line_x, line_y, 100, color='yellow')\n",
    "    plot.autoscale(tight=True)\n",
    "    plot.set_xlim(*x_limits)\n",
    "    plot.set_ylim(*y_limits)\n",
    "\n",
    "def show_classifier(X, y, cl,\n",
    "                    feature_modifier=lambda x: x,\n",
    "                    proba=True,\n",
    "                    print_score=False,\n",
    "                    borders=1):\n",
    "    fig, ax = plt.subplots(1, 1)\n",
    "    xys = c_[ravel(xs), ravel(ys)]\n",
    "    cl.fit(feature_modifier(X), y)\n",
    "    if print_score:\n",
    "        print(\"MSE = {}\".format(get_score(feature_modifier(X), y, cl)))\n",
    "    if proba:\n",
    "        predicted = cl.predict_proba(feature_modifier(pd.DataFrame(xys, columns=('x', 'y'))))[:,1].reshape(xs.shape)\n",
    "    else:\n",
    "        predicted = cl.predict(feature_modifier(pd.DataFrame(xys, columns=('x', 'y')))).reshape(xs.shape)\n",
    "    plot_linear_border(cl, X, ax, borders=borders)\n",
    "    ax.scatter(X.x, X.y, c=y, **scatter_args)\n",
    "    return cl"
   ]
  },
  {
   "cell_type": "code",
   "execution_count": null,
   "metadata": {
    "collapsed": false
   },
   "outputs": [],
   "source": [
    "n = 200\n",
    "random = np.random.RandomState(17)\n",
    "df1 = pd.DataFrame(data=random.multivariate_normal((0,0), [[1, 0.3], [0.3, 0.7]], n), columns=['x', 'y'])\n",
    "df1['target'] = 0\n",
    "df2 = pd.DataFrame(data=random.multivariate_normal((1,2), [[1, -0.5], [-0.5, 1.6]], n), columns=['x', 'y'])\n",
    "df2['target'] = 1\n",
    "data = pd.concat([df1, df2], ignore_index=True)\n",
    "features = data[['x', 'y']]\n",
    "data.plot(kind='scatter', x='x', y='y', c='target', colormap='autumn', alpha=0.75, colorbar=False);"
   ]
  },
  {
   "cell_type": "code",
   "execution_count": null,
   "metadata": {
    "collapsed": false
   },
   "outputs": [],
   "source": [
    "from sklearn.svm import LinearSVC\n",
    "big_grid = get_grid(features, 0.1)\n",
    "show_classifier(features, data.target, \n",
    "                LinearSVC(),\n",
    "                proba=False);"
   ]
  },
  {
   "cell_type": "markdown",
   "metadata": {},
   "source": [
    "## Градиентный спуск¶"
   ]
  },
  {
   "cell_type": "markdown",
   "metadata": {},
   "source": [
    "$$M_i(w, w_0) = y_i(\\left<x, w\\right> - w_0)$$\n",
    "$$\\sum_{i=1}^l \\mathscr{L}(M(x_i)) \\to min$$"
   ]
  },
  {
   "cell_type": "code",
   "execution_count": null,
   "metadata": {
    "collapsed": true
   },
   "outputs": [],
   "source": [
    "from sklearn.linear_model import SGDClassifier"
   ]
  },
  {
   "cell_type": "code",
   "execution_count": null,
   "metadata": {
    "collapsed": false
   },
   "outputs": [],
   "source": [
    "random = np.random.RandomState(11)\n",
    "n_iters = 20\n",
    "figure(figsize=(10, 8 * n_iters))\n",
    "xys = c_[ravel(xs), ravel(ys)]\n",
    "clf = SGDClassifier(alpha=1, l1_ratio=0)\n",
    "train_objects = data.ix[random.choice(data.index, n_iters)]\n",
    "for iteration in range(n_iters):\n",
    "    new_object = train_objects.iloc[iteration]\n",
    "    clf = clf.partial_fit([new_object[['x', 'y']]], [new_object.target], classes=[0, 1])\n",
    "    ax = subplot(n_iters, 1, iteration + 1)\n",
    "    title(\"objets count = {}\".format(iteration + 1))\n",
    "    predicted = clf.predict(xys).reshape(xs.shape)\n",
    "    plot_linear_border(clf, features, ax)\n",
    "    processed_objects = train_objects.head(iteration + 1)\n",
    "    scatter(processed_objects.x, processed_objects.y, c=processed_objects.target, alpha=0.5, **scatter_args)\n",
    "    scatter(new_object.x, new_object.y, marker='x', lw='20')"
   ]
  },
  {
   "cell_type": "markdown",
   "metadata": {},
   "source": [
    "# Links"
   ]
  },
  {
   "cell_type": "markdown",
   "metadata": {},
   "source": [
    "- http://scikit-learn.org/stable/modules/linear_model.html\n",
    "- https://habrahabr.ru/post/279117/"
   ]
  }
 ],
 "metadata": {
  "kernelspec": {
   "display_name": "Python 3",
   "language": "python",
   "name": "python3"
  },
  "language_info": {
   "codemirror_mode": {
    "name": "ipython",
    "version": 3
   },
   "file_extension": ".py",
   "mimetype": "text/x-python",
   "name": "python",
   "nbconvert_exporter": "python",
   "pygments_lexer": "ipython3",
   "version": "3.4.3"
  }
 },
 "nbformat": 4,
 "nbformat_minor": 0
}
