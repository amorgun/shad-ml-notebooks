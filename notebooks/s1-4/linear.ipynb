{
 "cells": [
  {
   "cell_type": "code",
   "execution_count": null,
   "metadata": {
    "collapsed": false
   },
   "outputs": [],
   "source": [
    "%pylab inline\n",
    "import matplotlib.pyplot as plt\n",
    "import numpy as np\n",
    "import mpld3; mpld3.enable_notebook()\n",
    "import seaborn as sns; sns.set();\n",
    "\n"
   ]
  },
  {
   "cell_type": "code",
   "execution_count": null,
   "metadata": {
    "collapsed": false
   },
   "outputs": [],
   "source": [
    "from mpld3 import plugins, utils\n",
    "\n",
    "\n",
    "class DragPlugin(plugins.PluginBase):\n",
    "    JAVASCRIPT = r\"\"\"\n",
    "    mpld3.register_plugin(\"drag\", DragPlugin);\n",
    "    DragPlugin.prototype = Object.create(mpld3.Plugin.prototype);\n",
    "    DragPlugin.prototype.constructor = DragPlugin;\n",
    "    DragPlugin.prototype.requiredProps = [\"id\"];\n",
    "    DragPlugin.prototype.defaultProps = {}\n",
    "    function DragPlugin(fig, props){\n",
    "        mpld3.Plugin.call(this, fig, props);\n",
    "        mpld3.insert_css(\"#\" + fig.figid + \" path.dragging\",\n",
    "                         {\"fill-opacity\": \"1.0 !important\",\n",
    "                          \"stroke-opacity\": \"1.0 !important\"});\n",
    "    };\n",
    "\n",
    "    DragPlugin.prototype.draw = function(){\n",
    "        var obj = mpld3.get_element(this.props.id);\n",
    "\n",
    "        var drag = d3.behavior.drag()\n",
    "            .origin(function(d) { return {x:obj.ax.x(d[0]),\n",
    "                                          y:obj.ax.y(d[1])}; })\n",
    "            .on(\"dragstart\", dragstarted)\n",
    "            .on(\"drag\", dragged)\n",
    "            .on(\"dragend\", dragended);\n",
    "\n",
    "        obj.elements()\n",
    "           .data(obj.offsets)\n",
    "           .style(\"cursor\", \"default\")\n",
    "           .call(drag);\n",
    "\n",
    "        function dragstarted(d) {\n",
    "          d3.event.sourceEvent.stopPropagation();\n",
    "          d3.select(this).classed(\"dragging\", true);\n",
    "        }\n",
    "\n",
    "        function dragged(d, i) {\n",
    "          d[0] = obj.ax.x.invert(d3.event.x);\n",
    "          d[1] = obj.ax.y.invert(d3.event.y);\n",
    "          d3.select(this)\n",
    "            .attr(\"transform\", \"translate(\" + [d3.event.x,d3.event.y] + \")\");\n",
    "        }\n",
    "\n",
    "        function dragended(d) {\n",
    "          d3.select(this).classed(\"dragging\", false);\n",
    "        }\n",
    "    }\n",
    "    \"\"\"\n",
    "\n",
    "    def __init__(self, points):\n",
    "        if isinstance(points, mpl.lines.Line2D):\n",
    "            suffix = \"pts\"\n",
    "        else:\n",
    "            suffix = None\n",
    "\n",
    "        self.dict_ = {\"type\": \"drag\",\n",
    "                      \"id\": utils.get_id(points, suffix)}\n",
    "\n",
    "\n",
    "\n",
    "\n",
    "\n",
    "f, axarr = plt.subplots(1, 2, figsize=(10, 5))\n",
    "red = axarr[0].scatter([0], [0], c='r', s=1000)\n",
    "axarr[1].scatter([0], [0], c='b', s=1000)\n",
    "\n",
    "plugins.connect(fig, DragPlugin(red))\n",
    "red.get_array()\n"
   ]
  }
 ],
 "metadata": {
  "kernelspec": {
   "display_name": "Python 3",
   "language": "python",
   "name": "python3"
  },
  "language_info": {
   "codemirror_mode": {
    "name": "ipython",
    "version": 3
   },
   "file_extension": ".py",
   "mimetype": "text/x-python",
   "name": "python",
   "nbconvert_exporter": "python",
   "pygments_lexer": "ipython3",
   "version": "3.4.4"
  }
 },
 "nbformat": 4,
 "nbformat_minor": 0
}
